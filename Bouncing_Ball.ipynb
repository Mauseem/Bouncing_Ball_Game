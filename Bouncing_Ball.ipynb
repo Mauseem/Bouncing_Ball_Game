{
 "cells": [
  {
   "cell_type": "code",
   "execution_count": 1,
   "id": "fed6647b",
   "metadata": {},
   "outputs": [
    {
     "name": "stdout",
     "output_type": "stream",
     "text": [
      "pygame 2.1.2 (SDL 2.0.18, Python 3.10.7)\n",
      "Hello from the pygame community. https://www.pygame.org/contribute.html\n"
     ]
    },
    {
     "data": {
      "text/plain": [
       "(5, 0)"
      ]
     },
     "execution_count": 1,
     "metadata": {},
     "output_type": "execute_result"
    }
   ],
   "source": [
    "import os\n",
    "import sys, pygame, random ,time\n",
    "from pygame.locals import *\n",
    "pygame.init()"
   ]
  },
  {
   "cell_type": "code",
   "execution_count": 5,
   "id": "4d211da1",
   "metadata": {},
   "outputs": [
    {
     "ename": "SystemExit",
     "evalue": "",
     "output_type": "error",
     "traceback": [
      "An exception has occurred, use %tb to see the full traceback.\n",
      "\u001b[1;31mSystemExit\u001b[0m\n"
     ]
    }
   ],
   "source": [
    "\n",
    "\n",
    "width = 800\n",
    "height = 600\n",
    "\n",
    "screen = pygame.display.set_mode((width, height))\n",
    "\n",
    "# loading an image to serve as a background\n",
    "bg = pygame.image.load(\"background.jpg\")\n",
    "\n",
    "\n",
    "# setting a caption for the game\n",
    "pygame.display.set_caption(\"Pygame bouncing ball\")\n",
    "\n",
    "class ball:\n",
    "    Ball = pygame.image.load(\"index.png\")\n",
    "    g = 1\n",
    "\n",
    "    def __init__(self):\n",
    "        self.velocityX =  2\n",
    "        self.velocityY = 2\n",
    "        self.x = random.randint(0,768)\n",
    "        self.y = random.randint(0,568)\n",
    "        \n",
    "    def render_ball(self):\n",
    "        screen.blit(ball.Ball, (self.x,self.y))\n",
    "        \n",
    "    def mov_ball(self):\n",
    "        #changing y component of velocity due to change in velocity\n",
    "        self.velocityY += ball.g\n",
    "        #changing position based on velocity\n",
    "        self.x += self.velocityX\n",
    "        self.y += self.velocityY\n",
    "        \n",
    "        #collision with the wall leads to a change in velocity\n",
    "        if self.x < 0 or self.x > 768:\n",
    "            self.velocityX *= -1\n",
    "            \n",
    "        if self.y < 0 or self.velocityY < 0:\n",
    "            self.velocityY *= -1\n",
    "            \n",
    "        if self.y >568  and self.velocityY > 0:\n",
    "            self.velocityY *= -1\n",
    "            self.y = 568\n",
    "            \n",
    "        \n",
    "ball_list = [ball(),ball(),ball(),ball(),ball()]\n",
    "\n",
    "running = True\n",
    "while running:\n",
    "    for event in pygame.event.get():\n",
    "        if event.type == pygame.QUIT:\n",
    "            running = False\n",
    "            pygame.quit()\n",
    "            sys.exit()\n",
    "    time.sleep(0.02)\n",
    "    screen.blit(bg, (0, 0))\n",
    "    for ball_item in ball_list:\n",
    "        ball_item.render_ball()\n",
    "        ball_item.mov_ball()\n",
    "    pygame.display.update()\n",
    "        \n",
    "        \n",
    "        "
   ]
  },
  {
   "cell_type": "code",
   "execution_count": null,
   "id": "a4fb3718",
   "metadata": {},
   "outputs": [],
   "source": []
  },
  {
   "cell_type": "code",
   "execution_count": null,
   "id": "c3da9e90",
   "metadata": {},
   "outputs": [],
   "source": []
  }
 ],
 "metadata": {
  "kernelspec": {
   "display_name": "Python 3 (ipykernel)",
   "language": "python",
   "name": "python3"
  },
  "language_info": {
   "codemirror_mode": {
    "name": "ipython",
    "version": 3
   },
   "file_extension": ".py",
   "mimetype": "text/x-python",
   "name": "python",
   "nbconvert_exporter": "python",
   "pygments_lexer": "ipython3",
   "version": "3.10.7"
  }
 },
 "nbformat": 4,
 "nbformat_minor": 5
}
