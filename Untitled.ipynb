{
 "cells": [
  {
   "cell_type": "code",
   "execution_count": 2,
   "id": "4d211da1",
   "metadata": {},
   "outputs": [
    {
     "ename": "SystemExit",
     "evalue": "",
     "output_type": "error",
     "traceback": [
      "An exception has occurred, use %tb to see the full traceback.\n",
      "\u001b[1;31mSystemExit\u001b[0m\n"
     ]
    },
    {
     "name": "stderr",
     "output_type": "stream",
     "text": [
      "C:\\Users\\mause\\AppData\\Local\\Programs\\Python\\Python310\\lib\\site-packages\\IPython\\core\\interactiveshell.py:3406: UserWarning: To exit: use 'exit', 'quit', or Ctrl-D.\n",
      "  warn(\"To exit: use 'exit', 'quit', or Ctrl-D.\", stacklevel=1)\n"
     ]
    }
   ],
   "source": [
    "import os\n",
    "os.environ['PYGAME_HIDE_SUPPORT_PROMPT'] = \"hide\"\n",
    "import sys, pygame\n",
    "from pygame.locals import *\n",
    "pygame.init()\n",
    "\n",
    "speed = [1, 1]\n",
    "width = 550\n",
    "height = 300\n",
    "one_turn = 10\n",
    "color = (230,220,200)\n",
    "\n",
    "screen = pygame.display.set_mode((width, height))\n",
    "pygame.display.set_caption(\"Pygame bouncing ball\")\n",
    "\n",
    "ball = pygame.image.load(\"index.png\")\n",
    "rect_boundry = ball.get_rect()\n",
    "pos = [0,0]\n",
    "\n",
    "bg = pygame.image.load(\"background.jpg\")\n",
    "\n",
    "while 1:\n",
    "    for event in pygame.event.get():\n",
    "        rect_boundry = rect_boundry.move(speed)\n",
    "        if rect_boundry.left < 0 or rect_boundry.right > width:\n",
    "            speed[0] = -speed[0]\n",
    "        if rect_boundry.top < 0 or rect_boundry.bottom > height:\n",
    "            speed[1] = -speed[1]\n",
    "\n",
    "        screen.fill(color)\n",
    "        screen.blit(ball, rect_boundry)\n",
    "        pygame.display.flip()\n",
    "#         pygame.display.update()\n",
    "\n",
    "        if event.type == QUIT:\n",
    "            pygame.quit()\n",
    "            sys.exit()"
   ]
  },
  {
   "cell_type": "code",
   "execution_count": null,
   "id": "a4fb3718",
   "metadata": {},
   "outputs": [],
   "source": []
  }
 ],
 "metadata": {
  "kernelspec": {
   "display_name": "Python 3 (ipykernel)",
   "language": "python",
   "name": "python3"
  },
  "language_info": {
   "codemirror_mode": {
    "name": "ipython",
    "version": 3
   },
   "file_extension": ".py",
   "mimetype": "text/x-python",
   "name": "python",
   "nbconvert_exporter": "python",
   "pygments_lexer": "ipython3",
   "version": "3.10.7"
  }
 },
 "nbformat": 4,
 "nbformat_minor": 5
}
